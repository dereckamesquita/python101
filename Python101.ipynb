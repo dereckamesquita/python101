{
  "nbformat": 4,
  "nbformat_minor": 0,
  "metadata": {
    "colab": {
      "provenance": []
    },
    "kernelspec": {
      "name": "python3",
      "display_name": "Python 3"
    },
    "language_info": {
      "name": "python"
    }
  },
  "cells": [
    {
      "cell_type": "markdown",
      "source": [
        "# Primera sesión"
      ],
      "metadata": {
        "id": "1J6SzfbvDvim"
      }
    },
    {
      "cell_type": "markdown",
      "source": [
        "## Introducción"
      ],
      "metadata": {
        "id": "8sj_ZyQODy6K"
      }
    },
    {
      "cell_type": "markdown",
      "source": [
        "Números Enteros (int): Utilizados para representar números enteros, como la edad de una persona o la cantidad de productos en stock.  \n",
        "\n",
        "Números Flotantes (float): Sirven para números con decimales, como la altura de una persona o el precio de un producto.  \n",
        "\n",
        "Cadenas (strings - str): Se utilizan para representar texto, como nombres, mensajes o descripciones.  \n",
        "\n",
        "Booleanos (bool): Representan valores de verdad, es decir, verdadero (True) o falso (False). Se usan para tomar decisiones basadas en condiciones.  "
      ],
      "metadata": {
        "id": "MC2xGC5DGCiB"
      }
    },
    {
      "cell_type": "code",
      "source": [
        "edad = 25  # Declara la variable \"edad\" y le asigna el valor 25.\n",
        "nombre = \"Juan\"  # Declara la variable \"nombre\" y le asigna el texto \"Juan\".\n",
        "altura = 1.75  # Declara la variable \"altura\" y le asigna el valor 1.75.\n",
        "es_mayor = True  # Declara la variable \"es_mayor\" y le asigna el valor Verdadero.\n"
      ],
      "metadata": {
        "id": "dp7fr2C7jbHV"
      },
      "execution_count": null,
      "outputs": []
    },
    {
      "cell_type": "code",
      "execution_count": null,
      "metadata": {
        "colab": {
          "base_uri": "https://localhost:8080/"
        },
        "id": "FkfokdE8fbws",
        "outputId": "113ad7b8-8e53-44e5-d00d-bc0c9d067fdc"
      },
      "outputs": [
        {
          "output_type": "stream",
          "name": "stdout",
          "text": [
            "pera\n",
            "4\n"
          ]
        }
      ],
      "source": [
        "frutas = [\"manzana\", \"banano\", \"pera\"]\n",
        "print(frutas[2])  # Accede al primer elemento de la lista.\n",
        "frutas.append(\"naranja\")  # Agrega una nueva fruta a la lista.\n",
        "print(len(frutas))  # Obtiene la longitud de la lista (número de elementos).\n"
      ]
    },
    {
      "cell_type": "markdown",
      "source": [
        "### Sentencias condicionales"
      ],
      "metadata": {
        "id": "RDPAg52yD-Vm"
      }
    },
    {
      "cell_type": "markdown",
      "source": [
        "Existen principalmente dos tipos de sentencias condicionales:    \n",
        "\n",
        "- if (Si): La sentencia if se utiliza para ejecutar un bloque de código si una condición es verdadera. Es el camino principal que se sigue si la condición se cumple.  \n",
        "\n",
        "- else (Si no): La sentencia else se utiliza junto con if y se ejecuta cuando la condición en el if es falsa. Proporciona un camino alternativo a seguir cuando la condición no se cumple.  "
      ],
      "metadata": {
        "id": "oBhHAdteGREr"
      }
    },
    {
      "cell_type": "code",
      "source": [
        "preciocompra = 50\n",
        "precioactual = 60\n",
        "\n",
        "if preciocompra < precioactual:\n",
        "  print('Vende')\n"
      ],
      "metadata": {
        "id": "5Fby5MCYD9qN"
      },
      "execution_count": null,
      "outputs": []
    },
    {
      "cell_type": "markdown",
      "source": [
        "## Bucles"
      ],
      "metadata": {
        "id": "kxRVk6z96H2r"
      }
    },
    {
      "cell_type": "markdown",
      "source": [
        "### Bucle FOR"
      ],
      "metadata": {
        "id": "u2mAxGDMyeit"
      }
    },
    {
      "cell_type": "markdown",
      "source": [
        "Bucle for (Para):\n",
        "Imagina que tienes una caja llena de juguetes, y quieres jugar con cada uno de ellos uno por uno.\n",
        "En Python, usas un bucle for para hacer esto. Le dices a la computadora: \"¡Oye, juega con cada juguete en esta caja!\".\n",
        "Aquí hay un ejemplo:"
      ],
      "metadata": {
        "id": "c3XMT-iPyh1p"
      }
    },
    {
      "cell_type": "code",
      "source": [
        "tecnologicas = [\"Apple\", \"Tesla\", \"Microsoft\", \"NVIDIA\"]\n",
        "\n",
        "for x in tecnologicas:\n",
        "    print(\"Nasdaq: \", x)\n"
      ],
      "metadata": {
        "colab": {
          "base_uri": "https://localhost:8080/"
        },
        "id": "-uJNOOXgyhBl",
        "outputId": "54f62bf0-07a4-44a6-ed8a-166ac5772068"
      },
      "execution_count": null,
      "outputs": [
        {
          "output_type": "stream",
          "name": "stdout",
          "text": [
            "Nasdaq:  Apple\n",
            "Nasdaq:  Tesla\n",
            "Nasdaq:  Microsoft\n",
            "Nasdaq:  NVIDIA\n"
          ]
        }
      ]
    },
    {
      "cell_type": "markdown",
      "source": [
        "### Bucle While"
      ],
      "metadata": {
        "id": "ZZvo7JKxynda"
      }
    },
    {
      "cell_type": "markdown",
      "source": [
        "Ahora, imagina que quieres jugar a videojuegos hasta que sea hora de dormir, pero no sabes cuánto tiempo será.\n",
        "En Python, usas un bucle while para hacer esto. Le dices a la computadora: \"¡Sigue jugando hasta que te diga que paremos!\".\n",
        "Aquí hay un ejemplo:"
      ],
      "metadata": {
        "id": "3KI_kLoQyuke"
      }
    },
    {
      "cell_type": "code",
      "source": [
        " # Inicializamos la variable número con un valor que no sea 5\n",
        "numero = 0\n",
        "\n",
        "while numero != 5:\n",
        "    numero = numero + 1\n",
        "    print(\"Número nuevo:\", numero)\n",
        "\n",
        "print(\"¡Encontraste el número 5!\")"
      ],
      "metadata": {
        "colab": {
          "base_uri": "https://localhost:8080/"
        },
        "id": "NQxb9xFT6TXS",
        "outputId": "b1894683-aab4-4dc8-eb5b-78f816027ce6"
      },
      "execution_count": null,
      "outputs": [
        {
          "output_type": "stream",
          "name": "stdout",
          "text": [
            "Número nuevo: 1\n",
            "Número nuevo: 2\n",
            "Número nuevo: 3\n",
            "Número nuevo: 4\n",
            "Número nuevo: 5\n",
            "¡Encontraste el número 5!\n"
          ]
        }
      ]
    },
    {
      "cell_type": "code",
      "source": [
        "import random\n",
        "\n",
        "numero = 0  # Inicializamos la variable número con un valor que no sea 5\n",
        "\n",
        "while numero != 5:\n",
        "    numero = random.randint(1, 10)  # Genera un número aleatorio entre 1 y 10\n",
        "    print(\"Número generado:\", numero)\n",
        "\n",
        "print(\"¡Encontraste el número 5!\")\n"
      ],
      "metadata": {
        "colab": {
          "base_uri": "https://localhost:8080/"
        },
        "id": "41u5ahrK0YD0",
        "outputId": "70cdc5ad-4592-4920-f1d0-8f7810563ad2"
      },
      "execution_count": null,
      "outputs": [
        {
          "output_type": "stream",
          "name": "stdout",
          "text": [
            "Número generado: 5\n",
            "¡Encontraste el número 5!\n"
          ]
        }
      ]
    },
    {
      "cell_type": "code",
      "source": [
        "import random\n",
        "\n",
        "while True: # Nos permite detenerlo con un break\n",
        "    numero = random.randint(1, 10)  # Genera un número aleatorio entre 1 y 10\n",
        "\n",
        "    print(\"Número generado:\", numero)\n",
        "\n",
        "    if numero == 5:\n",
        "        print(\"¡Encontraste el número 5!\")\n",
        "        break  # Sale del bucle cuando se encuentra el 5\n"
      ],
      "metadata": {
        "colab": {
          "base_uri": "https://localhost:8080/"
        },
        "id": "xF6CFfJxyeVt",
        "outputId": "970add21-e5c0-4b25-bc5c-ee654b4e8394"
      },
      "execution_count": null,
      "outputs": [
        {
          "output_type": "stream",
          "name": "stdout",
          "text": [
            "Número generado: 3\n",
            "Número generado: 7\n",
            "Número generado: 1\n",
            "Número generado: 8\n",
            "Número generado: 3\n",
            "Número generado: 9\n",
            "Número generado: 5\n",
            "¡Encontraste el número 5!\n"
          ]
        }
      ]
    },
    {
      "cell_type": "code",
      "source": [],
      "metadata": {
        "id": "KjMZYbjY7vkj"
      },
      "execution_count": null,
      "outputs": []
    },
    {
      "cell_type": "markdown",
      "source": [
        "## Funciones\n"
      ],
      "metadata": {
        "id": "U3OIpOR07wpC"
      }
    },
    {
      "cell_type": "markdown",
      "source": [
        "### Def"
      ],
      "metadata": {
        "id": "kYl9F0x37yod"
      }
    },
    {
      "cell_type": "markdown",
      "source": [
        "Las funciones en Python son como herramientas personalizadas que puedes crear para realizar tareas específicas en tu código. Imagina que tienes una caja de herramientas con herramientas para diferentes trabajos. Cada herramienta es una función que hace algo especial.\n",
        "\n",
        "**Definición de Función:** Para crear una función, primero debes definirla. Esto es como crear una nueva herramienta y darle un nombre.\n",
        "\n",
        "**Llamada a la Función:** Una vez que has definido la función, puedes usarla en cualquier parte de tu código simplemente llamándola por su nombre.\n",
        "\n"
      ],
      "metadata": {
        "id": "XqGpbSxh72OG"
      }
    },
    {
      "cell_type": "code",
      "source": [
        "def suma(a, b):\n",
        "    resultado = a + b\n",
        "    return resultado\n"
      ],
      "metadata": {
        "id": "VInB3tE-71Ok"
      },
      "execution_count": null,
      "outputs": []
    },
    {
      "cell_type": "code",
      "source": [
        "suma(3,4)"
      ],
      "metadata": {
        "colab": {
          "base_uri": "https://localhost:8080/"
        },
        "id": "g_T66c058Flt",
        "outputId": "a48ba203-7222-47fc-991d-33c2a9c3edc9"
      },
      "execution_count": null,
      "outputs": [
        {
          "output_type": "execute_result",
          "data": {
            "text/plain": [
              "7"
            ]
          },
          "metadata": {},
          "execution_count": 8
        }
      ]
    },
    {
      "cell_type": "markdown",
      "source": [
        "$$y = f(x)$$\n",
        "$$y(x) = 2x + 15$$\n",
        "\n"
      ],
      "metadata": {
        "id": "gcNdTSzT8jjs"
      }
    },
    {
      "cell_type": "code",
      "source": [
        "import matplotlib.pyplot as plt\n",
        "import numpy as np\n",
        "\n",
        "x = np.linspace(0, 10, 11)\n",
        "\n",
        "def y(x):\n",
        "  return 2*x+15\n",
        "plt.plot(x, y(x))\n"
      ],
      "metadata": {
        "colab": {
          "base_uri": "https://localhost:8080/",
          "height": 447
        },
        "id": "wX2bD8Nk8Lyz",
        "outputId": "ec6469b7-9f51-4acb-d071-bf1663cd7e74"
      },
      "execution_count": null,
      "outputs": [
        {
          "output_type": "execute_result",
          "data": {
            "text/plain": [
              "[<matplotlib.lines.Line2D at 0x7a61b872cc40>]"
            ]
          },
          "metadata": {},
          "execution_count": 10
        },
        {
          "output_type": "display_data",
          "data": {
            "text/plain": [
              "<Figure size 640x480 with 1 Axes>"
            ],
            "image/png": "[encoded data removed]"
          },
          "metadata": {}
        }
      ]
    },
    {
      "cell_type": "code",
      "source": [
        "y = 2*x**4+15\n",
        "plt.plot(x,y)\n"
      ],
      "metadata": {
        "colab": {
          "base_uri": "https://localhost:8080/",
          "height": 447
        },
        "id": "ls6jc1Nz9bNo",
        "outputId": "72a257ea-7aa0-4172-83f0-ad705872d7fe"
      },
      "execution_count": null,
      "outputs": [
        {
          "output_type": "execute_result",
          "data": {
            "text/plain": [
              "[<matplotlib.lines.Line2D at 0x7a6194e3a530>]"
            ]
          },
          "metadata": {},
          "execution_count": 16
        },
        {
          "output_type": "display_data",
          "data": {
            "text/plain": [
              "<Figure size 640x480 with 1 Axes>"
            ],
            "image/png": "[encoded data removed]"
          },
          "metadata": {}
        }
      ]
    },
    {
      "cell_type": "markdown",
      "source": [
        "## Diccionarios - DataFrame"
      ],
      "metadata": {
        "id": "fsIoEPC6BuP9"
      }
    },
    {
      "cell_type": "markdown",
      "source": [
        "Los diccionarios en Python son estructuras de datos que te permiten almacenar y organizar información de manera flexible. A diferencia de las listas que utilizan índices numéricos para acceder a sus elementos, los diccionarios utilizan claves (keys) para acceder a sus valores (values). Cada elemento en un diccionario consiste en una pareja de clave-valor.\n",
        "\n",
        ":"
      ],
      "metadata": {
        "id": "09cTVVcFB0-Z"
      }
    },
    {
      "cell_type": "code",
      "source": [
        "# Crear un diccionario con información de una persona\n",
        "persona = {\n",
        "    \"nombre\": \"Juan\",\n",
        "    \"edad\": 30,\n",
        "    \"ciudad\": \"Ejemploville\"\n",
        "}\n",
        "\n",
        "# Acceder a valores utilizando las claves\n",
        "print(\"Nombre:\", persona[\"nombre\"])\n",
        "print(\"Edad:\", persona[\"edad\"])\n",
        "print(\"Ciudad:\", persona[\"ciudad\"])\n"
      ],
      "metadata": {
        "id": "m_Tn3FqkBxYR"
      },
      "execution_count": null,
      "outputs": []
    },
    {
      "cell_type": "markdown",
      "source": [
        "## Pandas Dataframe"
      ],
      "metadata": {
        "id": "T6WJS0FwB7SA"
      }
    },
    {
      "cell_type": "markdown",
      "source": [
        "Un DataFrame en pandas es una estructura de datos bidimensional y etiquetada que se utiliza para almacenar y manipular datos de manera eficiente en Python. Es una de las estructuras de datos más utilizadas en la biblioteca pandas y se asemeja a una hoja de cálculo o a una tabla en una base de datos.\n",
        "\n"
      ],
      "metadata": {
        "id": "LkbSprlDCKL-"
      }
    },
    {
      "cell_type": "code",
      "source": [
        "import pandas as pd\n",
        "\n",
        "# Crear un diccionario con datos\n",
        "datos = {\n",
        "    'Nombre': ['Juan', 'María', 'Carlos'],\n",
        "    'Edad': [30, 25, 35],\n",
        "    'Ciudad': ['Ejemploville', 'Otroville', 'Ciudadxyz']\n",
        "}\n",
        "\n",
        "# Crear un DataFrame a partir del diccionario\n",
        "df = pd.DataFrame(datos)\n",
        "\n",
        "# Mostrar el DataFrame\n",
        "print(df)\n"
      ],
      "metadata": {
        "id": "8D7JhVL-B6qr"
      },
      "execution_count": null,
      "outputs": []
    },
    {
      "cell_type": "markdown",
      "source": [
        "### Cargado de datos"
      ],
      "metadata": {
        "id": "2YhjUUlFKTI1"
      }
    },
    {
      "cell_type": "code",
      "source": [
        "import pandas as pd\n",
        "\n",
        "# Cargar el conjunto de datos mtcars desde la biblioteca seaborn\n",
        "import seaborn as sns\n",
        "mtcars = sns.load_dataset(\"mpg\")\n",
        "\n",
        "# Mostrar las primeras filas del DataFrame para verificar la carga exitosa\n",
        "print(mtcars.head())\n"
      ],
      "metadata": {
        "colab": {
          "base_uri": "https://localhost:8080/"
        },
        "id": "FhfBoWQXKYwu",
        "outputId": "d6c8f72f-135b-4fdf-d8ec-87d98828c8b2"
      },
      "execution_count": 1,
      "outputs": [
        {
          "output_type": "stream",
          "name": "stdout",
          "text": [
            "    mpg  cylinders  displacement  horsepower  weight  acceleration  \\\n",
            "0  18.0          8         307.0       130.0    3504          12.0   \n",
            "1  15.0          8         350.0       165.0    3693          11.5   \n",
            "2  18.0          8         318.0       150.0    3436          11.0   \n",
            "3  16.0          8         304.0       150.0    3433          12.0   \n",
            "4  17.0          8         302.0       140.0    3449          10.5   \n",
            "\n",
            "   model_year origin                       name  \n",
            "0          70    usa  chevrolet chevelle malibu  \n",
            "1          70    usa          buick skylark 320  \n",
            "2          70    usa         plymouth satellite  \n",
            "3          70    usa              amc rebel sst  \n",
            "4          70    usa                ford torino  \n"
          ]
        }
      ]
    },
    {
      "cell_type": "code",
      "source": [
        "mtcars.to_csv('mtcars.csv', index = False)"
      ],
      "metadata": {
        "id": "nJXT4oxnKspH"
      },
      "execution_count": 2,
      "outputs": []
    },
    {
      "cell_type": "code",
      "source": [
        "df = pd.read_csv('mtcars.csv')\n",
        "mtcars = df.copy()"
      ],
      "metadata": {
        "id": "sMnwgaLiK8Jy"
      },
      "execution_count": 32,
      "outputs": []
    },
    {
      "cell_type": "markdown",
      "source": [
        "### Exploración inicial"
      ],
      "metadata": {
        "id": "dg_1zGPgLm32"
      }
    },
    {
      "cell_type": "code",
      "source": [
        "# Muestra las primeras filas del DataFrame para obtener una vista previa de los datos\n",
        "print(\"Primeras Filas:\")\n",
        "print(mtcars.head())"
      ],
      "metadata": {
        "id": "FyNkbSAuLc5k"
      },
      "execution_count": null,
      "outputs": []
    },
    {
      "cell_type": "code",
      "source": [
        "# Obtén información básica sobre el DataFrame, como nombres de columnas y tipos de datos\n",
        "print(\"\\nInformación del DataFrame:\")\n",
        "print(mtcars.info())"
      ],
      "metadata": {
        "id": "-zJJajwuLeCz"
      },
      "execution_count": null,
      "outputs": []
    },
    {
      "cell_type": "code",
      "source": [
        "# Resumen estadístico de las columnas numéricas\n",
        "print(\"\\nResumen Estadístico:\")\n",
        "print(mtcars.describe())"
      ],
      "metadata": {
        "id": "tQB6hnoXLfA_"
      },
      "execution_count": null,
      "outputs": []
    },
    {
      "cell_type": "code",
      "source": [
        "# Dimensiones del DataFrame (filas x columnas)\n",
        "print(\"\\nDimensiones del DataFrame:\")\n",
        "print(mtcars.shape)"
      ],
      "metadata": {
        "id": "OR60MYC0LgEt"
      },
      "execution_count": null,
      "outputs": []
    },
    {
      "cell_type": "code",
      "source": [
        "# Nombres de las columnas\n",
        "print(\"\\nNombres de las Columnas:\")\n",
        "print(mtcars.columns)"
      ],
      "metadata": {
        "id": "xnygWokyLhdG"
      },
      "execution_count": null,
      "outputs": []
    },
    {
      "cell_type": "code",
      "source": [
        "# Conteo de valores únicos en una columna específica (por ejemplo, 'origin')\n",
        "print(\"\\nConteo de Valores Únicos en 'origin':\")\n",
        "print(mtcars['origin'].value_counts())"
      ],
      "metadata": {
        "colab": {
          "base_uri": "https://localhost:8080/"
        },
        "id": "f_p9aBLqLj83",
        "outputId": "52c4fde0-912f-4ec4-d000-cd1398ccd4de"
      },
      "execution_count": 18,
      "outputs": [
        {
          "output_type": "stream",
          "name": "stdout",
          "text": [
            "\n",
            "Conteo de Valores Únicos en 'origin':\n",
            "usa       249\n",
            "japan      79\n",
            "europe     70\n",
            "Name: origin, dtype: int64\n"
          ]
        }
      ]
    },
    {
      "cell_type": "code",
      "source": [
        "# Verificar si hay valores faltantes en el DataFrame\n",
        "print(\"\\nValores Faltantes:\")\n",
        "print(mtcars.isnull().sum())"
      ],
      "metadata": {
        "id": "XhbM5iRKLG9j"
      },
      "execution_count": null,
      "outputs": []
    },
    {
      "cell_type": "markdown",
      "source": [
        "### Selección de columnas"
      ],
      "metadata": {
        "id": "NZtS8bT9Lp3V"
      }
    },
    {
      "cell_type": "code",
      "source": [
        "mpg_columna = mtcars['mpg']\n",
        "mpg_columna"
      ],
      "metadata": {
        "colab": {
          "base_uri": "https://localhost:8080/"
        },
        "id": "cEben5sTL4pp",
        "outputId": "434470f8-7056-4319-b1f1-9a2811d39f72"
      },
      "execution_count": 19,
      "outputs": [
        {
          "output_type": "execute_result",
          "data": {
            "text/plain": [
              "0      18.0\n",
              "1      15.0\n",
              "2      18.0\n",
              "3      16.0\n",
              "4      17.0\n",
              "       ... \n",
              "393    27.0\n",
              "394    44.0\n",
              "395    32.0\n",
              "396    28.0\n",
              "397    31.0\n",
              "Name: mpg, Length: 398, dtype: float64"
            ]
          },
          "metadata": {},
          "execution_count": 19
        }
      ]
    },
    {
      "cell_type": "code",
      "source": [
        "columnas_seleccionadas = mtcars[['mpg', 'horsepower']]\n",
        "columnas_seleccionadas"
      ],
      "metadata": {
        "id": "uiq9JJNtL6Wu"
      },
      "execution_count": null,
      "outputs": []
    },
    {
      "cell_type": "code",
      "source": [
        "mpg_mayor_20 = mtcars[mtcars['mpg'] > 20]\n",
        "mpg_mayor_20"
      ],
      "metadata": {
        "colab": {
          "base_uri": "https://localhost:8080/",
          "height": 419
        },
        "id": "DNcCLOusL9g0",
        "outputId": "ee173d54-7801-4571-a261-f95185164010"
      },
      "execution_count": 11,
      "outputs": [
        {
          "output_type": "execute_result",
          "data": {
            "text/plain": [
              "      mpg  cylinders  displacement  horsepower  weight  acceleration  \\\n",
              "14   24.0          4         113.0        95.0    2372          15.0   \n",
              "15   22.0          6         198.0        95.0    2833          15.5   \n",
              "17   21.0          6         200.0        85.0    2587          16.0   \n",
              "18   27.0          4          97.0        88.0    2130          14.5   \n",
              "19   26.0          4          97.0        46.0    1835          20.5   \n",
              "..    ...        ...           ...         ...     ...           ...   \n",
              "393  27.0          4         140.0        86.0    2790          15.6   \n",
              "394  44.0          4          97.0        52.0    2130          24.6   \n",
              "395  32.0          4         135.0        84.0    2295          11.6   \n",
              "396  28.0          4         120.0        79.0    2625          18.6   \n",
              "397  31.0          4         119.0        82.0    2720          19.4   \n",
              "\n",
              "     model_year  origin                          name  \n",
              "14           70   japan         toyota corona mark ii  \n",
              "15           70     usa               plymouth duster  \n",
              "17           70     usa                 ford maverick  \n",
              "18           70   japan                  datsun pl510  \n",
              "19           70  europe  volkswagen 1131 deluxe sedan  \n",
              "..          ...     ...                           ...  \n",
              "393          82     usa               ford mustang gl  \n",
              "394          82  europe                     vw pickup  \n",
              "395          82     usa                 dodge rampage  \n",
              "396          82     usa                   ford ranger  \n",
              "397          82     usa                    chevy s-10  \n",
              "\n",
              "[238 rows x 9 columns]"
            ],
            "text/html": [
              "\n",
              "  <div id=\"df-f4c79702-faec-4616-8a09-c3a397c3a369\" class=\"colab-df-container\">\n",
              "    <div>\n",
              "<style scoped>\n",
              "    .dataframe tbody tr th:only-of-type {\n",
              "        vertical-align: middle;\n",
              "    }\n",
              "\n",
              "    .dataframe tbody tr th {\n",
              "        vertical-align: top;\n",
              "    }\n",
              "\n",
              "    .dataframe thead th {\n",
              "        text-align: right;\n",
              "    }\n",
              "</style>\n",
              "<table border=\"1\" class=\"dataframe\">\n",
              "  <thead>\n",
              "    <tr style=\"text-align: right;\">\n",
              "      <th></th>\n",
              "      <th>mpg</th>\n",
              "      <th>cylinders</th>\n",
              "      <th>displacement</th>\n",
              "      <th>horsepower</th>\n",
              "      <th>weight</th>\n",
              "      <th>acceleration</th>\n",
              "      <th>model_year</th>\n",
              "      <th>origin</th>\n",
              "      <th>name</th>\n",
              "    </tr>\n",
              "  </thead>\n",
              "  <tbody>\n",
              "    <tr>\n",
              "      <th>14</th>\n",
              "      <td>24.0</td>\n",
              "      <td>4</td>\n",
              "      <td>113.0</td>\n",
              "      <td>95.0</td>\n",
              "      <td>2372</td>\n",
              "      <td>15.0</td>\n",
              "      <td>70</td>\n",
              "      <td>japan</td>\n",
              "      <td>toyota corona mark ii</td>\n",
              "    </tr>\n",
              "    <tr>\n",
              "      <th>15</th>\n",
              "      <td>22.0</td>\n",
              "      <td>6</td>\n",
              "      <td>198.0</td>\n",
              "      <td>95.0</td>\n",
              "      <td>2833</td>\n",
              "      <td>15.5</td>\n",
              "      <td>70</td>\n",
              "      <td>usa</td>\n",
              "      <td>plymouth duster</td>\n",
              "    </tr>\n",
              "    <tr>\n",
              "      <th>17</th>\n",
              "      <td>21.0</td>\n",
              "      <td>6</td>\n",
              "      <td>200.0</td>\n",
              "      <td>85.0</td>\n",
              "      <td>2587</td>\n",
              "      <td>16.0</td>\n",
              "      <td>70</td>\n",
              "      <td>usa</td>\n",
              "      <td>ford maverick</td>\n",
              "    </tr>\n",
              "    <tr>\n",
              "      <th>18</th>\n",
              "      <td>27.0</td>\n",
              "      <td>4</td>\n",
              "      <td>97.0</td>\n",
              "      <td>88.0</td>\n",
              "      <td>2130</td>\n",
              "      <td>14.5</td>\n",
              "      <td>70</td>\n",
              "      <td>japan</td>\n",
              "      <td>datsun pl510</td>\n",
              "    </tr>\n",
              "    <tr>\n",
              "      <th>19</th>\n",
              "      <td>26.0</td>\n",
              "      <td>4</td>\n",
              "      <td>97.0</td>\n",
              "      <td>46.0</td>\n",
              "      <td>1835</td>\n",
              "      <td>20.5</td>\n",
              "      <td>70</td>\n",
              "      <td>europe</td>\n",
              "      <td>volkswagen 1131 deluxe sedan</td>\n",
              "    </tr>\n",
              "    <tr>\n",
              "      <th>...</th>\n",
              "      <td>...</td>\n",
              "      <td>...</td>\n",
              "      <td>...</td>\n",
              "      <td>...</td>\n",
              "      <td>...</td>\n",
              "      <td>...</td>\n",
              "      <td>...</td>\n",
              "      <td>...</td>\n",
              "      <td>...</td>\n",
              "    </tr>\n",
              "    <tr>\n",
              "      <th>393</th>\n",
              "      <td>27.0</td>\n",
              "      <td>4</td>\n",
              "      <td>140.0</td>\n",
              "      <td>86.0</td>\n",
              "      <td>2790</td>\n",
              "      <td>15.6</td>\n",
              "      <td>82</td>\n",
              "      <td>usa</td>\n",
              "      <td>ford mustang gl</td>\n",
              "    </tr>\n",
              "    <tr>\n",
              "      <th>394</th>\n",
              "      <td>44.0</td>\n",
              "      <td>4</td>\n",
              "      <td>97.0</td>\n",
              "      <td>52.0</td>\n",
              "      <td>2130</td>\n",
              "      <td>24.6</td>\n",
              "      <td>82</td>\n",
              "      <td>europe</td>\n",
              "      <td>vw pickup</td>\n",
              "    </tr>\n",
              "    <tr>\n",
              "      <th>395</th>\n",
              "      <td>32.0</td>\n",
              "      <td>4</td>\n",
              "      <td>135.0</td>\n",
              "      <td>84.0</td>\n",
              "      <td>2295</td>\n",
              "      <td>11.6</td>\n",
              "      <td>82</td>\n",
              "      <td>usa</td>\n",
              "      <td>dodge rampage</td>\n",
              "    </tr>\n",
              "    <tr>\n",
              "      <th>396</th>\n",
              "      <td>28.0</td>\n",
              "      <td>4</td>\n",
              "      <td>120.0</td>\n",
              "      <td>79.0</td>\n",
              "      <td>2625</td>\n",
              "      <td>18.6</td>\n",
              "      <td>82</td>\n",
              "      <td>usa</td>\n",
              "      <td>ford ranger</td>\n",
              "    </tr>\n",
              "    <tr>\n",
              "      <th>397</th>\n",
              "      <td>31.0</td>\n",
              "      <td>4</td>\n",
              "      <td>119.0</td>\n",
              "      <td>82.0</td>\n",
              "      <td>2720</td>\n",
              "      <td>19.4</td>\n",
              "      <td>82</td>\n",
              "      <td>usa</td>\n",
              "      <td>chevy s-10</td>\n",
              "    </tr>\n",
              "  </tbody>\n",
              "</table>\n",
              "<p>238 rows × 9 columns</p>\n",
              "</div>\n",
              "    <div class=\"colab-df-buttons\">\n",
              "\n",
              "  <div class=\"colab-df-container\">\n",
              "    <button class=\"colab-df-convert\" onclick=\"convertToInteractive('df-f4c79702-faec-4616-8a09-c3a397c3a369')\"\n",
              "            title=\"Convert this dataframe to an interactive table.\"\n",
              "            style=\"display:none;\">\n",
              "\n",
              "  <svg xmlns=\"http://www.w3.org/2000/svg\" height=\"24px\" viewBox=\"0 -960 960 960\">\n",
              "    <path d=\"M120-120v-720h720v720H120Zm60-500h600v-160H180v160Zm220 220h160v-160H400v160Zm0 220h160v-160H400v160ZM180-400h160v-160H180v160Zm440 0h160v-160H620v160ZM180-180h160v-160H180v160Zm440 0h160v-160H620v160Z\"/>\n",
              "  </svg>\n",
              "    </button>\n",
              "\n",
              "  <style>\n",
              "    .colab-df-container {\n",
              "      display:flex;\n",
              "      gap: 12px;\n",
              "    }\n",
              "\n",
              "    .colab-df-convert {\n",
              "      background-color: #E8F0FE;\n",
              "      border: none;\n",
              "      border-radius: 50%;\n",
              "      cursor: pointer;\n",
              "      display: none;\n",
              "      fill: #1967D2;\n",
              "      height: 32px;\n",
              "      padding: 0 0 0 0;\n",
              "      width: 32px;\n",
              "    }\n",
              "\n",
              "    .colab-df-convert:hover {\n",
              "      background-color: #E2EBFA;\n",
              "      box-shadow: 0px 1px 2px rgba(60, 64, 67, 0.3), 0px 1px 3px 1px rgba(60, 64, 67, 0.15);\n",
              "      fill: #174EA6;\n",
              "    }\n",
              "\n",
              "    .colab-df-buttons div {\n",
              "      margin-bottom: 4px;\n",
              "    }\n",
              "\n",
              "    [theme=dark] .colab-df-convert {\n",
              "      background-color: #3B4455;\n",
              "      fill: #D2E3FC;\n",
              "    }\n",
              "\n",
              "    [theme=dark] .colab-df-convert:hover {\n",
              "      background-color: #434B5C;\n",
              "      box-shadow: 0px 1px 3px 1px rgba(0, 0, 0, 0.15);\n",
              "      filter: drop-shadow(0px 1px 2px rgba(0, 0, 0, 0.3));\n",
              "      fill: #FFFFFF;\n",
              "    }\n",
              "  </style>\n",
              "\n",
              "    <script>\n",
              "      const buttonEl =\n",
              "        document.querySelector('#df-f4c79702-faec-4616-8a09-c3a397c3a369 button.colab-df-convert');\n",
              "      buttonEl.style.display =\n",
              "        google.colab.kernel.accessAllowed ? 'block' : 'none';\n",
              "\n",
              "      async function convertToInteractive(key) {\n",
              "        const element = document.querySelector('#df-f4c79702-faec-4616-8a09-c3a397c3a369');\n",
              "        const dataTable =\n",
              "          await google.colab.kernel.invokeFunction('convertToInteractive',\n",
              "                                                    [key], {});\n",
              "        if (!dataTable) return;\n",
              "\n",
              "        const docLinkHtml = 'Like what you see? Visit the ' +\n",
              "          '<a target=\"_blank\" href=https://colab.research.google.com/notebooks/data_table.ipynb>data table notebook</a>'\n",
              "          + ' to learn more about interactive tables.';\n",
              "        element.innerHTML = '';\n",
              "        dataTable['output_type'] = 'display_data';\n",
              "        await google.colab.output.renderOutput(dataTable, element);\n",
              "        const docLink = document.createElement('div');\n",
              "        docLink.innerHTML = docLinkHtml;\n",
              "        element.appendChild(docLink);\n",
              "      }\n",
              "    </script>\n",
              "  </div>\n",
              "\n",
              "\n",
              "<div id=\"df-82663581-e7ce-450c-96f4-0021f8712a21\">\n",
              "  <button class=\"colab-df-quickchart\" onclick=\"quickchart('df-82663581-e7ce-450c-96f4-0021f8712a21')\"\n",
              "            title=\"Suggest charts.\"\n",
              "            style=\"display:none;\">\n",
              "\n",
              "<svg xmlns=\"http://www.w3.org/2000/svg\" height=\"24px\"viewBox=\"0 0 24 24\"\n",
              "     width=\"24px\">\n",
              "    <g>\n",
              "        <path d=\"M19 3H5c-1.1 0-2 .9-2 2v14c0 1.1.9 2 2 2h14c1.1 0 2-.9 2-2V5c0-1.1-.9-2-2-2zM9 17H7v-7h2v7zm4 0h-2V7h2v10zm4 0h-2v-4h2v4z\"/>\n",
              "    </g>\n",
              "</svg>\n",
              "  </button>\n",
              "\n",
              "<style>\n",
              "  .colab-df-quickchart {\n",
              "      --bg-color: #E8F0FE;\n",
              "      --fill-color: #1967D2;\n",
              "      --hover-bg-color: #E2EBFA;\n",
              "      --hover-fill-color: #174EA6;\n",
              "      --disabled-fill-color: #AAA;\n",
              "      --disabled-bg-color: #DDD;\n",
              "  }\n",
              "\n",
              "  [theme=dark] .colab-df-quickchart {\n",
              "      --bg-color: #3B4455;\n",
              "      --fill-color: #D2E3FC;\n",
              "      --hover-bg-color: #434B5C;\n",
              "      --hover-fill-color: #FFFFFF;\n",
              "      --disabled-bg-color: #3B4455;\n",
              "      --disabled-fill-color: #666;\n",
              "  }\n",
              "\n",
              "  .colab-df-quickchart {\n",
              "    background-color: var(--bg-color);\n",
              "    border: none;\n",
              "    border-radius: 50%;\n",
              "    cursor: pointer;\n",
              "    display: none;\n",
              "    fill: var(--fill-color);\n",
              "    height: 32px;\n",
              "    padding: 0;\n",
              "    width: 32px;\n",
              "  }\n",
              "\n",
              "  .colab-df-quickchart:hover {\n",
              "    background-color: var(--hover-bg-color);\n",
              "    box-shadow: 0 1px 2px rgba(60, 64, 67, 0.3), 0 1px 3px 1px rgba(60, 64, 67, 0.15);\n",
              "    fill: var(--button-hover-fill-color);\n",
              "  }\n",
              "\n",
              "  .colab-df-quickchart-complete:disabled,\n",
              "  .colab-df-quickchart-complete:disabled:hover {\n",
              "    background-color: var(--disabled-bg-color);\n",
              "    fill: var(--disabled-fill-color);\n",
              "    box-shadow: none;\n",
              "  }\n",
              "\n",
              "  .colab-df-spinner {\n",
              "    border: 2px solid var(--fill-color);\n",
              "    border-color: transparent;\n",
              "    border-bottom-color: var(--fill-color);\n",
              "    animation:\n",
              "      spin 1s steps(1) infinite;\n",
              "  }\n",
              "\n",
              "  @keyframes spin {\n",
              "    0% {\n",
              "      border-color: transparent;\n",
              "      border-bottom-color: var(--fill-color);\n",
              "      border-left-color: var(--fill-color);\n",
              "    }\n",
              "    20% {\n",
              "      border-color: transparent;\n",
              "      border-left-color: var(--fill-color);\n",
              "      border-top-color: var(--fill-color);\n",
              "    }\n",
              "    30% {\n",
              "      border-color: transparent;\n",
              "      border-left-color: var(--fill-color);\n",
              "      border-top-color: var(--fill-color);\n",
              "      border-right-color: var(--fill-color);\n",
              "    }\n",
              "    40% {\n",
              "      border-color: transparent;\n",
              "      border-right-color: var(--fill-color);\n",
              "      border-top-color: var(--fill-color);\n",
              "    }\n",
              "    60% {\n",
              "      border-color: transparent;\n",
              "      border-right-color: var(--fill-color);\n",
              "    }\n",
              "    80% {\n",
              "      border-color: transparent;\n",
              "      border-right-color: var(--fill-color);\n",
              "      border-bottom-color: var(--fill-color);\n",
              "    }\n",
              "    90% {\n",
              "      border-color: transparent;\n",
              "      border-bottom-color: var(--fill-color);\n",
              "    }\n",
              "  }\n",
              "</style>\n",
              "\n",
              "  <script>\n",
              "    async function quickchart(key) {\n",
              "      const quickchartButtonEl =\n",
              "        document.querySelector('#' + key + ' button');\n",
              "      quickchartButtonEl.disabled = true;  // To prevent multiple clicks.\n",
              "      quickchartButtonEl.classList.add('colab-df-spinner');\n",
              "      try {\n",
              "        const charts = await google.colab.kernel.invokeFunction(\n",
              "            'suggestCharts', [key], {});\n",
              "      } catch (error) {\n",
              "        console.error('Error during call to suggestCharts:', error);\n",
              "      }\n",
              "      quickchartButtonEl.classList.remove('colab-df-spinner');\n",
              "      quickchartButtonEl.classList.add('colab-df-quickchart-complete');\n",
              "    }\n",
              "    (() => {\n",
              "      let quickchartButtonEl =\n",
              "        document.querySelector('#df-82663581-e7ce-450c-96f4-0021f8712a21 button');\n",
              "      quickchartButtonEl.style.display =\n",
              "        google.colab.kernel.accessAllowed ? 'block' : 'none';\n",
              "    })();\n",
              "  </script>\n",
              "</div>\n",
              "    </div>\n",
              "  </div>\n"
            ]
          },
          "metadata": {},
          "execution_count": 11
        }
      ]
    },
    {
      "cell_type": "code",
      "source": [
        "seleccion = mtcars.loc[0, ['mpg', 'horsepower']]"
      ],
      "metadata": {
        "id": "LbO_ib_zMBOC"
      },
      "execution_count": null,
      "outputs": []
    },
    {
      "cell_type": "code",
      "source": [
        "seleccion_loc = mtcars.loc[:, ['mpg', 'horsepower']]"
      ],
      "metadata": {
        "id": "rMrtH_05Mcce"
      },
      "execution_count": 31,
      "outputs": []
    },
    {
      "cell_type": "code",
      "source": [
        "mtcars = mtcars.set_index('name')\n",
        "ford = mtcars.loc['ford maverick', :]\n",
        "ford"
      ],
      "metadata": {
        "colab": {
          "base_uri": "https://localhost:8080/",
          "height": 235
        },
        "id": "aO8egaRcMfZJ",
        "outputId": "5256ee6d-01a0-4efa-973e-c6008a0abf66"
      },
      "execution_count": 30,
      "outputs": [
        {
          "output_type": "execute_result",
          "data": {
            "text/plain": [
              "                mpg  cylinders  displacement  horsepower  weight  \\\n",
              "name                                                               \n",
              "ford maverick  21.0          6         200.0        85.0    2587   \n",
              "ford maverick  18.0          6         250.0        88.0    3021   \n",
              "ford maverick  21.0          6         200.0         NaN    2875   \n",
              "ford maverick  15.0          6         250.0        72.0    3158   \n",
              "ford maverick  24.0          6         200.0        81.0    3012   \n",
              "\n",
              "               acceleration  model_year origin  \n",
              "name                                            \n",
              "ford maverick          16.0          70    usa  \n",
              "ford maverick          16.5          73    usa  \n",
              "ford maverick          17.0          74    usa  \n",
              "ford maverick          19.5          75    usa  \n",
              "ford maverick          17.6          76    usa  "
            ],
            "text/html": [
              "\n",
              "  <div id=\"df-83d545e2-e2dd-4306-ac44-aaa2e6cb3170\" class=\"colab-df-container\">\n",
              "    <div>\n",
              "<style scoped>\n",
              "    .dataframe tbody tr th:only-of-type {\n",
              "        vertical-align: middle;\n",
              "    }\n",
              "\n",
              "    .dataframe tbody tr th {\n",
              "        vertical-align: top;\n",
              "    }\n",
              "\n",
              "    .dataframe thead th {\n",
              "        text-align: right;\n",
              "    }\n",
              "</style>\n",
              "<table border=\"1\" class=\"dataframe\">\n",
              "  <thead>\n",
              "    <tr style=\"text-align: right;\">\n",
              "      <th></th>\n",
              "      <th>mpg</th>\n",
              "      <th>cylinders</th>\n",
              "      <th>displacement</th>\n",
              "      <th>horsepower</th>\n",
              "      <th>weight</th>\n",
              "      <th>acceleration</th>\n",
              "      <th>model_year</th>\n",
              "      <th>origin</th>\n",
              "    </tr>\n",
              "    <tr>\n",
              "      <th>name</th>\n",
              "      <th></th>\n",
              "      <th></th>\n",
              "      <th></th>\n",
              "      <th></th>\n",
              "      <th></th>\n",
              "      <th></th>\n",
              "      <th></th>\n",
              "      <th></th>\n",
              "    </tr>\n",
              "  </thead>\n",
              "  <tbody>\n",
              "    <tr>\n",
              "      <th>ford maverick</th>\n",
              "      <td>21.0</td>\n",
              "      <td>6</td>\n",
              "      <td>200.0</td>\n",
              "      <td>85.0</td>\n",
              "      <td>2587</td>\n",
              "      <td>16.0</td>\n",
              "      <td>70</td>\n",
              "      <td>usa</td>\n",
              "    </tr>\n",
              "    <tr>\n",
              "      <th>ford maverick</th>\n",
              "      <td>18.0</td>\n",
              "      <td>6</td>\n",
              "      <td>250.0</td>\n",
              "      <td>88.0</td>\n",
              "      <td>3021</td>\n",
              "      <td>16.5</td>\n",
              "      <td>73</td>\n",
              "      <td>usa</td>\n",
              "    </tr>\n",
              "    <tr>\n",
              "      <th>ford maverick</th>\n",
              "      <td>21.0</td>\n",
              "      <td>6</td>\n",
              "      <td>200.0</td>\n",
              "      <td>NaN</td>\n",
              "      <td>2875</td>\n",
              "      <td>17.0</td>\n",
              "      <td>74</td>\n",
              "      <td>usa</td>\n",
              "    </tr>\n",
              "    <tr>\n",
              "      <th>ford maverick</th>\n",
              "      <td>15.0</td>\n",
              "      <td>6</td>\n",
              "      <td>250.0</td>\n",
              "      <td>72.0</td>\n",
              "      <td>3158</td>\n",
              "      <td>19.5</td>\n",
              "      <td>75</td>\n",
              "      <td>usa</td>\n",
              "    </tr>\n",
              "    <tr>\n",
              "      <th>ford maverick</th>\n",
              "      <td>24.0</td>\n",
              "      <td>6</td>\n",
              "      <td>200.0</td>\n",
              "      <td>81.0</td>\n",
              "      <td>3012</td>\n",
              "      <td>17.6</td>\n",
              "      <td>76</td>\n",
              "      <td>usa</td>\n",
              "    </tr>\n",
              "  </tbody>\n",
              "</table>\n",
              "</div>\n",
              "    <div class=\"colab-df-buttons\">\n",
              "\n",
              "  <div class=\"colab-df-container\">\n",
              "    <button class=\"colab-df-convert\" onclick=\"convertToInteractive('df-83d545e2-e2dd-4306-ac44-aaa2e6cb3170')\"\n",
              "            title=\"Convert this dataframe to an interactive table.\"\n",
              "            style=\"display:none;\">\n",
              "\n",
              "  <svg xmlns=\"http://www.w3.org/2000/svg\" height=\"24px\" viewBox=\"0 -960 960 960\">\n",
              "    <path d=\"M120-120v-720h720v720H120Zm60-500h600v-160H180v160Zm220 220h160v-160H400v160Zm0 220h160v-160H400v160ZM180-400h160v-160H180v160Zm440 0h160v-160H620v160ZM180-180h160v-160H180v160Zm440 0h160v-160H620v160Z\"/>\n",
              "  </svg>\n",
              "    </button>\n",
              "\n",
              "  <style>\n",
              "    .colab-df-container {\n",
              "      display:flex;\n",
              "      gap: 12px;\n",
              "    }\n",
              "\n",
              "    .colab-df-convert {\n",
              "      background-color: #E8F0FE;\n",
              "      border: none;\n",
              "      border-radius: 50%;\n",
              "      cursor: pointer;\n",
              "      display: none;\n",
              "      fill: #1967D2;\n",
              "      height: 32px;\n",
              "      padding: 0 0 0 0;\n",
              "      width: 32px;\n",
              "    }\n",
              "\n",
              "    .colab-df-convert:hover {\n",
              "      background-color: #E2EBFA;\n",
              "      box-shadow: 0px 1px 2px rgba(60, 64, 67, 0.3), 0px 1px 3px 1px rgba(60, 64, 67, 0.15);\n",
              "      fill: #174EA6;\n",
              "    }\n",
              "\n",
              "    .colab-df-buttons div {\n",
              "      margin-bottom: 4px;\n",
              "    }\n",
              "\n",
              "    [theme=dark] .colab-df-convert {\n",
              "      background-color: #3B4455;\n",
              "      fill: #D2E3FC;\n",
              "    }\n",
              "\n",
              "    [theme=dark] .colab-df-convert:hover {\n",
              "      background-color: #434B5C;\n",
              "      box-shadow: 0px 1px 3px 1px rgba(0, 0, 0, 0.15);\n",
              "      filter: drop-shadow(0px 1px 2px rgba(0, 0, 0, 0.3));\n",
              "      fill: #FFFFFF;\n",
              "    }\n",
              "  </style>\n",
              "\n",
              "    <script>\n",
              "      const buttonEl =\n",
              "        document.querySelector('#df-83d545e2-e2dd-4306-ac44-aaa2e6cb3170 button.colab-df-convert');\n",
              "      buttonEl.style.display =\n",
              "        google.colab.kernel.accessAllowed ? 'block' : 'none';\n",
              "\n",
              "      async function convertToInteractive(key) {\n",
              "        const element = document.querySelector('#df-83d545e2-e2dd-4306-ac44-aaa2e6cb3170');\n",
              "        const dataTable =\n",
              "          await google.colab.kernel.invokeFunction('convertToInteractive',\n",
              "                                                    [key], {});\n",
              "        if (!dataTable) return;\n",
              "\n",
              "        const docLinkHtml = 'Like what you see? Visit the ' +\n",
              "          '<a target=\"_blank\" href=https://colab.research.google.com/notebooks/data_table.ipynb>data table notebook</a>'\n",
              "          + ' to learn more about interactive tables.';\n",
              "        element.innerHTML = '';\n",
              "        dataTable['output_type'] = 'display_data';\n",
              "        await google.colab.output.renderOutput(dataTable, element);\n",
              "        const docLink = document.createElement('div');\n",
              "        docLink.innerHTML = docLinkHtml;\n",
              "        element.appendChild(docLink);\n",
              "      }\n",
              "    </script>\n",
              "  </div>\n",
              "\n",
              "\n",
              "<div id=\"df-07b552b2-02af-4cd6-abcc-8db9ad8308b5\">\n",
              "  <button class=\"colab-df-quickchart\" onclick=\"quickchart('df-07b552b2-02af-4cd6-abcc-8db9ad8308b5')\"\n",
              "            title=\"Suggest charts.\"\n",
              "            style=\"display:none;\">\n",
              "\n",
              "<svg xmlns=\"http://www.w3.org/2000/svg\" height=\"24px\"viewBox=\"0 0 24 24\"\n",
              "     width=\"24px\">\n",
              "    <g>\n",
              "        <path d=\"M19 3H5c-1.1 0-2 .9-2 2v14c0 1.1.9 2 2 2h14c1.1 0 2-.9 2-2V5c0-1.1-.9-2-2-2zM9 17H7v-7h2v7zm4 0h-2V7h2v10zm4 0h-2v-4h2v4z\"/>\n",
              "    </g>\n",
              "</svg>\n",
              "  </button>\n",
              "\n",
              "<style>\n",
              "  .colab-df-quickchart {\n",
              "      --bg-color: #E8F0FE;\n",
              "      --fill-color: #1967D2;\n",
              "      --hover-bg-color: #E2EBFA;\n",
              "      --hover-fill-color: #174EA6;\n",
              "      --disabled-fill-color: #AAA;\n",
              "      --disabled-bg-color: #DDD;\n",
              "  }\n",
              "\n",
              "  [theme=dark] .colab-df-quickchart {\n",
              "      --bg-color: #3B4455;\n",
              "      --fill-color: #D2E3FC;\n",
              "      --hover-bg-color: #434B5C;\n",
              "      --hover-fill-color: #FFFFFF;\n",
              "      --disabled-bg-color: #3B4455;\n",
              "      --disabled-fill-color: #666;\n",
              "  }\n",
              "\n",
              "  .colab-df-quickchart {\n",
              "    background-color: var(--bg-color);\n",
              "    border: none;\n",
              "    border-radius: 50%;\n",
              "    cursor: pointer;\n",
              "    display: none;\n",
              "    fill: var(--fill-color);\n",
              "    height: 32px;\n",
              "    padding: 0;\n",
              "    width: 32px;\n",
              "  }\n",
              "\n",
              "  .colab-df-quickchart:hover {\n",
              "    background-color: var(--hover-bg-color);\n",
              "    box-shadow: 0 1px 2px rgba(60, 64, 67, 0.3), 0 1px 3px 1px rgba(60, 64, 67, 0.15);\n",
              "    fill: var(--button-hover-fill-color);\n",
              "  }\n",
              "\n",
              "  .colab-df-quickchart-complete:disabled,\n",
              "  .colab-df-quickchart-complete:disabled:hover {\n",
              "    background-color: var(--disabled-bg-color);\n",
              "    fill: var(--disabled-fill-color);\n",
              "    box-shadow: none;\n",
              "  }\n",
              "\n",
              "  .colab-df-spinner {\n",
              "    border: 2px solid var(--fill-color);\n",
              "    border-color: transparent;\n",
              "    border-bottom-color: var(--fill-color);\n",
              "    animation:\n",
              "      spin 1s steps(1) infinite;\n",
              "  }\n",
              "\n",
              "  @keyframes spin {\n",
              "    0% {\n",
              "      border-color: transparent;\n",
              "      border-bottom-color: var(--fill-color);\n",
              "      border-left-color: var(--fill-color);\n",
              "    }\n",
              "    20% {\n",
              "      border-color: transparent;\n",
              "      border-left-color: var(--fill-color);\n",
              "      border-top-color: var(--fill-color);\n",
              "    }\n",
              "    30% {\n",
              "      border-color: transparent;\n",
              "      border-left-color: var(--fill-color);\n",
              "      border-top-color: var(--fill-color);\n",
              "      border-right-color: var(--fill-color);\n",
              "    }\n",
              "    40% {\n",
              "      border-color: transparent;\n",
              "      border-right-color: var(--fill-color);\n",
              "      border-top-color: var(--fill-color);\n",
              "    }\n",
              "    60% {\n",
              "      border-color: transparent;\n",
              "      border-right-color: var(--fill-color);\n",
              "    }\n",
              "    80% {\n",
              "      border-color: transparent;\n",
              "      border-right-color: var(--fill-color);\n",
              "      border-bottom-color: var(--fill-color);\n",
              "    }\n",
              "    90% {\n",
              "      border-color: transparent;\n",
              "      border-bottom-color: var(--fill-color);\n",
              "    }\n",
              "  }\n",
              "</style>\n",
              "\n",
              "  <script>\n",
              "    async function quickchart(key) {\n",
              "      const quickchartButtonEl =\n",
              "        document.querySelector('#' + key + ' button');\n",
              "      quickchartButtonEl.disabled = true;  // To prevent multiple clicks.\n",
              "      quickchartButtonEl.classList.add('colab-df-spinner');\n",
              "      try {\n",
              "        const charts = await google.colab.kernel.invokeFunction(\n",
              "            'suggestCharts', [key], {});\n",
              "      } catch (error) {\n",
              "        console.error('Error during call to suggestCharts:', error);\n",
              "      }\n",
              "      quickchartButtonEl.classList.remove('colab-df-spinner');\n",
              "      quickchartButtonEl.classList.add('colab-df-quickchart-complete');\n",
              "    }\n",
              "    (() => {\n",
              "      let quickchartButtonEl =\n",
              "        document.querySelector('#df-07b552b2-02af-4cd6-abcc-8db9ad8308b5 button');\n",
              "      quickchartButtonEl.style.display =\n",
              "        google.colab.kernel.accessAllowed ? 'block' : 'none';\n",
              "    })();\n",
              "  </script>\n",
              "</div>\n",
              "    </div>\n",
              "  </div>\n"
            ]
          },
          "metadata": {},
          "execution_count": 30
        }
      ]
    },
    {
      "cell_type": "code",
      "source": [
        "primera_fila = mtcars.iloc[0, :]\n"
      ],
      "metadata": {
        "id": "yqI7TyIzMcCN"
      },
      "execution_count": null,
      "outputs": []
    },
    {
      "cell_type": "code",
      "source": [
        "seleccion_iloc = mtcars.iloc[1:5, 0:3]\n"
      ],
      "metadata": {
        "id": "t6FrCP3SMYma"
      },
      "execution_count": null,
      "outputs": []
    },
    {
      "cell_type": "markdown",
      "source": [
        "### Cálculos Estadísticos"
      ],
      "metadata": {
        "id": "dAcW_iG0Mn9K"
      }
    },
    {
      "cell_type": "code",
      "source": [
        "# Calcular el promedio, la mediana y la desviación estándar de la columna 'mpg' (millas por galón)\n",
        "promedio_mpg = mtcars['mpg'].mean()\n",
        "mediana_mpg = mtcars['mpg'].median()\n",
        "desviacion_estandar_mpg = mtcars['mpg'].std()\n",
        "\n",
        "# Calcular la suma, el valor máximo y el valor mínimo de la columna 'hp' (caballos de fuerza)\n",
        "suma_hp = mtcars['hp'].sum()\n",
        "maximo_hp = mtcars['hp'].max()\n",
        "minimo_hp = mtcars['hp'].min()\n",
        "\n",
        "# Calcular el recuento de valores únicos en la columna 'cyl' (número de cilindros)\n",
        "recuento_cilindros = mtcars['cyl'].value_counts()"
      ],
      "metadata": {
        "id": "ACbMFSWvMqd5"
      },
      "execution_count": null,
      "outputs": []
    },
    {
      "cell_type": "markdown",
      "source": [
        "### Ploting"
      ],
      "metadata": {
        "id": "Ud0SfBKGOIEs"
      }
    },
    {
      "cell_type": "code",
      "source": [
        "mtcars['mpg'].plot(kind='hist', bins=10, edgecolor='black')\n",
        "plt.xlabel('Millas por Galón (mpg)')\n",
        "plt.ylabel('Frecuencia')\n",
        "plt.title('Histograma de Eficiencia de Combustible')\n",
        "plt.show()"
      ],
      "metadata": {
        "id": "fVl53UNwQJgS"
      },
      "execution_count": null,
      "outputs": []
    },
    {
      "cell_type": "code",
      "source": [
        "# Crear un gráfico de barras\n",
        "conteo_cilindros.plot(kind='bar', edgecolor='black')\n",
        "plt.xlabel('Número de Cilindros')\n",
        "plt.ylabel('Frecuencia')\n",
        "plt.title('Gráfico de Barras: Número de Cilindros')\n",
        "plt.show()"
      ],
      "metadata": {
        "id": "jWOjW_qeONpa"
      },
      "execution_count": null,
      "outputs": []
    },
    {
      "cell_type": "code",
      "source": [
        "# Crear un gráfico de dispersión\n",
        "mtcars.plot(kind='scatter', x='mpg', y='hp', color='blue')\n",
        "plt.xlabel('Millas por Galón (mpg)')\n",
        "plt.ylabel('Caballos de Fuerza (hp)')\n",
        "plt.title('Gráfico de Dispersión: mpg vs. hp')\n",
        "plt.show()"
      ],
      "metadata": {
        "id": "9WcX34klQPI-"
      },
      "execution_count": null,
      "outputs": []
    },
    {
      "cell_type": "code",
      "source": [
        "# Cargar el conjunto de datos mtcars desde la biblioteca seaborn\n",
        "mtcars = sns.load_dataset(\"mpg\")\n",
        "\n",
        "# Seleccionar las columnas que deseas incluir en la matriz de gráficos de dispersión\n",
        "columnas_seleccionadas = mtcars[['mpg', 'horsepower', 'weight', 'acceleration']]\n",
        "\n",
        "# Crear una matriz de gráficos de dispersión para las columnas seleccionadas\n",
        "sns.pairplot(columnas_seleccionadas, diag_kind='kde', markers='o')\n",
        "plt.show()\n"
      ],
      "metadata": {
        "colab": {
          "base_uri": "https://localhost:8080/",
          "height": 1000
        },
        "id": "cEQk48XlOJyS",
        "outputId": "844688f9-0a10-4d27-e010-b105708d4b58"
      },
      "execution_count": 17,
      "outputs": [
        {
          "output_type": "display_data",
          "data": {
            "text/plain": [
              "<Figure size 1000x1000 with 20 Axes>"
            ],
            "image/png": "[encoded data removed]"
          },
          "metadata": {}
        }
      ]
    },
    {
      "cell_type": "markdown",
      "source": [
        "### Agrupamiento"
      ],
      "metadata": {
        "id": "Z4x7vhX0RGEH"
      }
    },
    {
      "cell_type": "code",
      "source": [
        "import pandas as pd\n",
        "\n",
        "data = {\n",
        "    'Producto': ['A', 'B', 'A', 'B', 'A', 'C'],\n",
        "    'Ventas': [100, 150, 200, 120, 180, 90],\n",
        "    'Region': ['Norte', 'Sur', 'Norte', 'Sur', 'Este', 'Oeste']\n",
        "}\n",
        "\n",
        "df = pd.DataFrame(data)\n"
      ],
      "metadata": {
        "id": "crEsRjAfRJ-a"
      },
      "execution_count": 25,
      "outputs": []
    },
    {
      "cell_type": "markdown",
      "source": [
        "Aplicación de la Función groupby():\n",
        "\n",
        "Utilizamos la función groupby() y pasamos el nombre de la columna (o columnas) por la cual deseamos agrupar los datos. Por ejemplo, para agrupar por 'Producto':"
      ],
      "metadata": {
        "id": "jmPi3cujRPH3"
      }
    },
    {
      "cell_type": "code",
      "source": [
        "grupos_por_producto = df.groupby('Producto')\n",
        "grupos_por_producto"
      ],
      "metadata": {
        "colab": {
          "base_uri": "https://localhost:8080/"
        },
        "id": "AZxzHnPeRMqk",
        "outputId": "c0349d0e-4bff-4ee5-e704-cc89349def73"
      },
      "execution_count": 26,
      "outputs": [
        {
          "output_type": "execute_result",
          "data": {
            "text/plain": [
              "<pandas.core.groupby.generic.DataFrameGroupBy object at 0x786f16eccc70>"
            ]
          },
          "metadata": {},
          "execution_count": 26
        }
      ]
    },
    {
      "cell_type": "code",
      "source": [
        "suma_ventas_por_producto = grupos_por_producto['Ventas'].sum()\n",
        "suma_ventas_por_producto"
      ],
      "metadata": {
        "colab": {
          "base_uri": "https://localhost:8080/"
        },
        "id": "0CE3WOeNRZ8m",
        "outputId": "7a736fbd-1e38-4100-8854-7b1aa225a9f7"
      },
      "execution_count": 29,
      "outputs": [
        {
          "output_type": "execute_result",
          "data": {
            "text/plain": [
              "Producto\n",
              "A    480\n",
              "B    270\n",
              "C     90\n",
              "Name: Ventas, dtype: int64"
            ]
          },
          "metadata": {},
          "execution_count": 29
        }
      ]
    },
    {
      "cell_type": "code",
      "source": [
        "# Agrupar los datos por las columnas 'Producto' y 'Region' y calcular la suma de ventas para cada grupo\n",
        "ventas_por_producto_region = df.groupby(['Producto', 'Region'])['Ventas'].sum()\n",
        "\n",
        "# Mostrar los resultados\n",
        "print(ventas_por_producto_region)\n"
      ],
      "metadata": {
        "colab": {
          "base_uri": "https://localhost:8080/"
        },
        "id": "igIfX43CR1TK",
        "outputId": "b8085d84-c3f1-4e06-9dfd-0021a3bc1114"
      },
      "execution_count": 28,
      "outputs": [
        {
          "output_type": "stream",
          "name": "stdout",
          "text": [
            "Producto  Region\n",
            "A         Este      180\n",
            "          Norte     300\n",
            "B         Sur       270\n",
            "C         Oeste      90\n",
            "Name: Ventas, dtype: int64\n"
          ]
        }
      ]
    },
    {
      "cell_type": "code",
      "source": [
        "# Agrupar los datos solo por la columna 'Region' y calcular tanto el promedio como la suma de ventas para cada región\n",
        "ventas_por_region = df.groupby('Region')['Ventas'].agg(['mean', 'sum'])\n",
        "\n",
        "# Mostrar los resultados\n",
        "print(ventas_por_region)\n"
      ],
      "metadata": {
        "id": "nTJxqah-R8lz"
      },
      "execution_count": null,
      "outputs": []
    },
    {
      "cell_type": "markdown",
      "source": [
        "## Scipy"
      ],
      "metadata": {
        "id": "Ix_tyoB3SxtR"
      }
    },
    {
      "cell_type": "markdown",
      "source": [],
      "metadata": {
        "id": "B8zmQjdYT7RW"
      }
    },
    {
      "cell_type": "code",
      "source": [
        "import sympy as sp\n",
        "\n",
        "# Definir la variable simbólica\n",
        "x = sp.Symbol('x')\n",
        "\n",
        "# Definir la función\n",
        "f = x**2 + 2*x + 1\n",
        "\n",
        "# Calcular la derivada\n",
        "derivada = sp.diff(f, x)\n",
        "\n",
        "\n"
      ],
      "metadata": {
        "colab": {
          "base_uri": "https://localhost:8080/",
          "height": 35
        },
        "id": "KaYk8ahQSy1p",
        "outputId": "02d8ea8f-7011-4d3e-ac67-223cb910d8c3"
      },
      "execution_count": 34,
      "outputs": [
        {
          "output_type": "execute_result",
          "data": {
            "text/plain": [
              "'2⋅x + 2'"
            ],
            "application/vnd.google.colaboratory.intrinsic+json": {
              "type": "string"
            }
          },
          "metadata": {},
          "execution_count": 34
        }
      ]
    },
    {
      "cell_type": "markdown",
      "source": [
        "# Aplicaciones teóricas"
      ],
      "metadata": {
        "id": "xIdpvF1-7pGx"
      }
    },
    {
      "cell_type": "code",
      "source": [
        "\n",
        "preciocompra = 50\n",
        "precioactual = 60\n",
        "\n",
        "if preciocompra < precioactual:\n",
        "  print('Vende')"
      ],
      "metadata": {
        "colab": {
          "base_uri": "https://localhost:8080/"
        },
        "id": "4EIwLsqJjkmY",
        "outputId": "23f854f6-fb24-4d78-ae3d-a737804f79d1"
      },
      "execution_count": null,
      "outputs": [
        {
          "output_type": "stream",
          "name": "stdout",
          "text": [
            "Vende\n"
          ]
        }
      ]
    },
    {
      "cell_type": "markdown",
      "source": [
        "Aqui podemos ver en un aspecto muy básico la decisión que tiene cualquier trader.\n",
        "\n",
        "El problema recae en que necesitariamos información actualizada del precio actual. Vamos a volver un poco mas complejo este ejercicio."
      ],
      "metadata": {
        "id": "Xi5hnZCYj86T"
      }
    },
    {
      "cell_type": "code",
      "source": [
        "precios = [\n",
        "    45,50,55,60\n",
        "]\n",
        "\n",
        "for x in precios:\n",
        "  if preciocompra < x:\n",
        "    print(x)\n",
        "    print(\"vende\")\n",
        "  else:\n",
        "    print(x)\n",
        "    print(\"Mantenlo\")\n"
      ],
      "metadata": {
        "colab": {
          "base_uri": "https://localhost:8080/"
        },
        "id": "5uiF0G16kNiV",
        "outputId": "8b135f16-af9d-479f-ce13-6a1a01937973"
      },
      "execution_count": null,
      "outputs": [
        {
          "output_type": "stream",
          "name": "stdout",
          "text": [
            "45\n",
            "Mantenlo\n",
            "50\n",
            "Mantenlo\n",
            "55\n",
            "vende\n",
            "60\n",
            "vende\n"
          ]
        }
      ]
    },
    {
      "cell_type": "code",
      "source": [
        "import numpy as np\n",
        "# Parámetros de la distribución normal\n",
        "media = 50\n",
        "varianza = 10\n",
        "# Generar números aleatorios con distribución normal\n",
        "precios = np.random.normal(media, np.sqrt(varianza), 1000)\n",
        "# Imprimir los primeros 10 números generados\n",
        "precios = list (precios)\n",
        "precios"
      ],
      "metadata": {
        "id": "JbVH7PiClHqV"
      },
      "execution_count": null,
      "outputs": []
    },
    {
      "cell_type": "code",
      "source": [
        "nvecesvende = 0\n",
        "nvecesmantiene = 0\n",
        "nvecesmantenemos = 0\n",
        "for x in precios:\n",
        "  if preciocompra < x:\n",
        "    print(x)\n",
        "    print(\"Vende\")\n",
        "    nvecesvende = nvecesvende + 1\n",
        "  elif preciocompra * 0.9 > x:\n",
        "    print(\"mantenernos\")\n",
        "    nvecesmantenemos = nvecesmantenemos + 1\n",
        "\n",
        "  else:\n",
        "    print(x)\n",
        "    print(\"Perdiendo\")\n",
        "    nvecesmantiene = nvecesmantiene + 1\n"
      ],
      "metadata": {
        "id": "KGawPgePlW0H"
      },
      "execution_count": null,
      "outputs": []
    },
    {
      "cell_type": "markdown",
      "source": [
        "# Sesión 2"
      ],
      "metadata": {
        "id": "OTD17De5UXdS"
      }
    },
    {
      "cell_type": "markdown",
      "source": [
        "Econometría:\n",
        "- ¿Qué sucede con una regresión si el error no es normal?\n",
        "\n",
        "Finanzas:\n",
        "\n",
        "- ¿Debemos seguir usando el CAMP?\n",
        "\n",
        "Cálculo:\n",
        "\n",
        "- ¿Los métodos numéricos deben remplazar las soluciones analíticas?"
      ],
      "metadata": {
        "id": "Rf4O5rM-UZwe"
      }
    },
    {
      "cell_type": "code",
      "source": [],
      "metadata": {
        "id": "TdQyZmPQUZO3"
      },
      "execution_count": null,
      "outputs": []
    }
  ]
}